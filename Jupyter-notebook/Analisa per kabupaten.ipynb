{
 "cells": [
  {
   "cell_type": "code",
   "execution_count": 2,
   "metadata": {},
   "outputs": [],
   "source": [
    "import numpy as np\n",
    "import pandas as pd\n",
    "from matplotlib import pyplot as plt\n",
    "from datetime import datetime as dt\n",
    "from sklearn import preprocessing\n",
    "from sklearn.cluster import KMeans"
   ]
  },
  {
   "cell_type": "code",
   "execution_count": 3,
   "metadata": {},
   "outputs": [
    {
     "data": {
      "text/html": [
       "<div>\n",
       "<style scoped>\n",
       "    .dataframe tbody tr th:only-of-type {\n",
       "        vertical-align: middle;\n",
       "    }\n",
       "\n",
       "    .dataframe tbody tr th {\n",
       "        vertical-align: top;\n",
       "    }\n",
       "\n",
       "    .dataframe thead th {\n",
       "        text-align: right;\n",
       "    }\n",
       "</style>\n",
       "<table border=\"1\" class=\"dataframe\">\n",
       "  <thead>\n",
       "    <tr style=\"text-align: right;\">\n",
       "      <th></th>\n",
       "      <th>Lintang (deg)</th>\n",
       "      <th>Bujur (deg)</th>\n",
       "      <th>Tanggal (dd/mm/yyy)</th>\n",
       "      <th>Tingkat Kepercayaan (%)</th>\n",
       "      <th>Kabupaten</th>\n",
       "    </tr>\n",
       "  </thead>\n",
       "  <tbody>\n",
       "    <tr>\n",
       "      <th>0</th>\n",
       "      <td>1.135818</td>\n",
       "      <td>101.620712</td>\n",
       "      <td>2014-08-04</td>\n",
       "      <td>56.0</td>\n",
       "      <td>Bengkalis</td>\n",
       "    </tr>\n",
       "    <tr>\n",
       "      <th>1</th>\n",
       "      <td>1.165034</td>\n",
       "      <td>101.948425</td>\n",
       "      <td>2014-08-04</td>\n",
       "      <td>30.0</td>\n",
       "      <td>Bengkalis</td>\n",
       "    </tr>\n",
       "    <tr>\n",
       "      <th>2</th>\n",
       "      <td>1.211236</td>\n",
       "      <td>100.950394</td>\n",
       "      <td>2014-08-04</td>\n",
       "      <td>47.0</td>\n",
       "      <td>Bengkalis</td>\n",
       "    </tr>\n",
       "    <tr>\n",
       "      <th>3</th>\n",
       "      <td>3.787562</td>\n",
       "      <td>117.442612</td>\n",
       "      <td>2014-08-04</td>\n",
       "      <td>60.0</td>\n",
       "      <td>Bengkalis</td>\n",
       "    </tr>\n",
       "    <tr>\n",
       "      <th>4</th>\n",
       "      <td>1.135820</td>\n",
       "      <td>101.620728</td>\n",
       "      <td>2014-08-04</td>\n",
       "      <td>56.0</td>\n",
       "      <td>Bengkalis</td>\n",
       "    </tr>\n",
       "  </tbody>\n",
       "</table>\n",
       "</div>"
      ],
      "text/plain": [
       "   Lintang (deg)  Bujur (deg) Tanggal (dd/mm/yyy)  Tingkat Kepercayaan (%)  \\\n",
       "0       1.135818   101.620712          2014-08-04                     56.0   \n",
       "1       1.165034   101.948425          2014-08-04                     30.0   \n",
       "2       1.211236   100.950394          2014-08-04                     47.0   \n",
       "3       3.787562   117.442612          2014-08-04                     60.0   \n",
       "4       1.135820   101.620728          2014-08-04                     56.0   \n",
       "\n",
       "   Kabupaten  \n",
       "0  Bengkalis  \n",
       "1  Bengkalis  \n",
       "2  Bengkalis  \n",
       "3  Bengkalis  \n",
       "4  Bengkalis  "
      ]
     },
     "execution_count": 3,
     "metadata": {},
     "output_type": "execute_result"
    }
   ],
   "source": [
    "data = pd.read_csv('export kab/Bengkalis.csv')\n",
    "del data['Unnamed: 0']\n",
    "del data['Provinsi']\n",
    "del data['Kecamatan']\n",
    "data.head()"
   ]
  },
  {
   "cell_type": "code",
   "execution_count": 45,
   "metadata": {},
   "outputs": [
    {
     "data": {
      "text/plain": [
       "Lintang (deg)              float64\n",
       "Bujur (deg)                float64\n",
       "Tanggal (dd/mm/yyy)         object\n",
       "Tingkat Kepercayaan (%)    float64\n",
       "Kabupaten                   object\n",
       "dtype: object"
      ]
     },
     "execution_count": 45,
     "metadata": {},
     "output_type": "execute_result"
    }
   ],
   "source": [
    "# data['Tanggal (dd/mm/yyy)'] = pd.to_datetime(data['Tanggal (dd/mm/yyy)'])\n",
    "data.dtypes"
   ]
  },
  {
   "cell_type": "code",
   "execution_count": 56,
   "metadata": {},
   "outputs": [
    {
     "data": {
      "text/plain": [
       "(8597, 3)"
      ]
     },
     "execution_count": 56,
     "metadata": {},
     "output_type": "execute_result"
    }
   ],
   "source": [
    "# del data['Tanggal (dd/mm/yyy)']\n",
    "# del data['Kabupaten']\n",
    "min_max_scaler = preprocessing.MinMaxScaler()\n",
    "x = data.values\n",
    "x_scaled = min_max_scaler.fit_transform(x)\n",
    "df = pd.DataFrame(x_scaled, columns=['Lintang', 'Bujur', 'Kepercayaan'])\n",
    "df.shape"
   ]
  },
  {
   "cell_type": "code",
   "execution_count": 63,
   "metadata": {},
   "outputs": [
    {
     "data": {
      "text/plain": [
       "<matplotlib.collections.PathCollection at 0x296d597ad30>"
      ]
     },
     "execution_count": 63,
     "metadata": {},
     "output_type": "execute_result"
    },
    {
     "data": {
      "image/png": "[encoded data removed]",
      "text/plain": [
       "<Figure size 432x288 with 1 Axes>"
      ]
     },
     "metadata": {
      "needs_background": "light"
     },
     "output_type": "display_data"
    }
   ],
   "source": [
    "plt.title('Scatter Bengkalis')\n",
    "plt.scatter(df['Lintang'],df['Bujur'])"
   ]
  },
  {
   "cell_type": "code",
   "execution_count": 1,
   "metadata": {},
   "outputs": [
    {
     "ename": "NameError",
     "evalue": "name 'KMeans' is not defined",
     "output_type": "error",
     "traceback": [
      "\u001b[1;31m---------------------------------------------------------------------------\u001b[0m",
      "\u001b[1;31mNameError\u001b[0m                                 Traceback (most recent call last)",
      "\u001b[1;32m<ipython-input-1-91c5ce86dc7c>\u001b[0m in \u001b[0;36m<module>\u001b[1;34m\u001b[0m\n\u001b[1;32m----> 1\u001b[1;33m \u001b[0mkmean\u001b[0m \u001b[1;33m=\u001b[0m \u001b[0mKMeans\u001b[0m\u001b[1;33m(\u001b[0m\u001b[0mn_clusters\u001b[0m \u001b[1;33m=\u001b[0m \u001b[1;36m18\u001b[0m\u001b[1;33m)\u001b[0m\u001b[1;33m\u001b[0m\u001b[1;33m\u001b[0m\u001b[0m\n\u001b[0m\u001b[0;32m      2\u001b[0m \u001b[0mkmean\u001b[0m\u001b[1;33m.\u001b[0m\u001b[0mfit\u001b[0m\u001b[1;33m(\u001b[0m\u001b[0mdf\u001b[0m\u001b[1;33m)\u001b[0m\u001b[1;33m\u001b[0m\u001b[1;33m\u001b[0m\u001b[0m\n\u001b[0;32m      3\u001b[0m \u001b[0mdf\u001b[0m\u001b[1;33m[\u001b[0m\u001b[1;34m'label'\u001b[0m\u001b[1;33m]\u001b[0m \u001b[1;33m=\u001b[0m \u001b[0mkmean\u001b[0m\u001b[1;33m.\u001b[0m\u001b[0mlabels_\u001b[0m\u001b[1;33m\u001b[0m\u001b[1;33m\u001b[0m\u001b[0m\n\u001b[0;32m      4\u001b[0m \u001b[0mcenter\u001b[0m \u001b[1;33m=\u001b[0m \u001b[0mkmean\u001b[0m\u001b[1;33m.\u001b[0m\u001b[0mcluster_centers_\u001b[0m\u001b[1;33m\u001b[0m\u001b[1;33m\u001b[0m\u001b[0m\n\u001b[0;32m      5\u001b[0m \u001b[1;31m# df.head()\u001b[0m\u001b[1;33m\u001b[0m\u001b[1;33m\u001b[0m\u001b[1;33m\u001b[0m\u001b[0m\n",
      "\u001b[1;31mNameError\u001b[0m: name 'KMeans' is not defined"
     ]
    }
   ],
   "source": [
    "kmean = KMeans(n_clusters = 18)\n",
    "kmean.fit(df)\n",
    "df['label'] = kmean.labels_\n",
    "center = kmean.cluster_centers_\n",
    "# df.head()\n",
    "\n",
    "x = df['Lintang']\n",
    "y = df['Bujur']\n",
    "fig = plt.figure()\n",
    "ax = fig.add_subplot(111)\n",
    "scatter = ax.scatter(x,y,c=df['label'],s=50)\n",
    "# for i,j in center:\n",
    "#     ax.scatter(i,j,s=50,c='red',marker='+')\n",
    "ax.set_xlabel('x')\n",
    "ax.set_ylabel('y')\n",
    "plt.colorbar(scatter)\n",
    "\n",
    "fig.show()"
   ]
  },
  {
   "cell_type": "code",
   "execution_count": null,
   "metadata": {},
   "outputs": [],
   "source": []
  }
 ],
 "metadata": {
  "kernelspec": {
   "display_name": "Python 3",
   "language": "python",
   "name": "python3"
  },
  "language_info": {
   "codemirror_mode": {
    "name": "ipython",
    "version": 3
   },
   "file_extension": ".py",
   "mimetype": "text/x-python",
   "name": "python",
   "nbconvert_exporter": "python",
   "pygments_lexer": "ipython3",
   "version": "3.7.2"
  }
 },
 "nbformat": 4,
 "nbformat_minor": 2
}

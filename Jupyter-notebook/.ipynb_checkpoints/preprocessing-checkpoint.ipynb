{
 "cells": [
  {
   "cell_type": "code",
   "execution_count": 1,
   "metadata": {},
   "outputs": [],
   "source": [
    "import pandas as pd\n",
    "import numpy as np\n",
    "from matplotlib import pyplot as plt\n",
    "import glob\n",
    "import os"
   ]
  },
  {
   "cell_type": "code",
   "execution_count": 2,
   "metadata": {},
   "outputs": [],
   "source": [
    "os.chdir(\"D:\\kuliah\\LOMBA\\GEMASTIK 12\\EDM22\\Jupyter-notebook\\Assets\")"
   ]
  },
  {
   "cell_type": "code",
   "execution_count": 3,
   "metadata": {},
   "outputs": [],
   "source": [
    "extension ='csv'\n",
    "all_filenames = [i for i in glob.glob('*.{}'.format(extension))]\n"
   ]
  },
  {
   "cell_type": "code",
   "execution_count": 4,
   "metadata": {},
   "outputs": [],
   "source": [
    "combined_csv = pd.concat([pd.read_csv(f) for f in all_filenames])"
   ]
  },
  {
   "cell_type": "code",
   "execution_count": 5,
   "metadata": {},
   "outputs": [
    {
     "data": {
      "text/html": [
       "<div>\n",
       "<style scoped>\n",
       "    .dataframe tbody tr th:only-of-type {\n",
       "        vertical-align: middle;\n",
       "    }\n",
       "\n",
       "    .dataframe tbody tr th {\n",
       "        vertical-align: top;\n",
       "    }\n",
       "\n",
       "    .dataframe thead th {\n",
       "        text-align: right;\n",
       "    }\n",
       "</style>\n",
       "<table border=\"1\" class=\"dataframe\">\n",
       "  <thead>\n",
       "    <tr style=\"text-align: right;\">\n",
       "      <th></th>\n",
       "      <th>Lintang (deg)</th>\n",
       "      <th>Bujur (deg)</th>\n",
       "      <th>Tanggal (dd/mm/yyy)</th>\n",
       "      <th>Waktu Akuisisi (UTC)</th>\n",
       "      <th>Tingkat Kepercayaan (%)</th>\n",
       "      <th>Satelit</th>\n",
       "      <th>Kecamatan</th>\n",
       "      <th>Kabupaten</th>\n",
       "      <th>Provinsi</th>\n",
       "    </tr>\n",
       "  </thead>\n",
       "  <tbody>\n",
       "    <tr>\n",
       "      <th>0</th>\n",
       "      <td>-8.47317</td>\n",
       "      <td>140.662</td>\n",
       "      <td>2014-08-04</td>\n",
       "      <td>04:28:00</td>\n",
       "      <td>25.0</td>\n",
       "      <td>aqua</td>\n",
       "      <td>Sota</td>\n",
       "      <td>Merauke</td>\n",
       "      <td>Papua</td>\n",
       "    </tr>\n",
       "    <tr>\n",
       "      <th>1</th>\n",
       "      <td>-8.29524</td>\n",
       "      <td>140.952</td>\n",
       "      <td>2014-08-04</td>\n",
       "      <td>04:28:00</td>\n",
       "      <td>58.0</td>\n",
       "      <td>aqua</td>\n",
       "      <td>Sota</td>\n",
       "      <td>Merauke</td>\n",
       "      <td>Papua</td>\n",
       "    </tr>\n",
       "    <tr>\n",
       "      <th>2</th>\n",
       "      <td>-8.14864</td>\n",
       "      <td>140.778</td>\n",
       "      <td>2014-08-04</td>\n",
       "      <td>04:28:00</td>\n",
       "      <td>35.0</td>\n",
       "      <td>aqua</td>\n",
       "      <td>Jagebob</td>\n",
       "      <td>Merauke</td>\n",
       "      <td>Papua</td>\n",
       "    </tr>\n",
       "    <tr>\n",
       "      <th>3</th>\n",
       "      <td>-8.32554</td>\n",
       "      <td>138.186</td>\n",
       "      <td>2014-08-04</td>\n",
       "      <td>04:28:00</td>\n",
       "      <td>58.0</td>\n",
       "      <td>aqua</td>\n",
       "      <td>Waan</td>\n",
       "      <td>Merauke</td>\n",
       "      <td>Papua</td>\n",
       "    </tr>\n",
       "    <tr>\n",
       "      <th>4</th>\n",
       "      <td>-8.32687</td>\n",
       "      <td>138.177</td>\n",
       "      <td>2014-08-04</td>\n",
       "      <td>04:28:00</td>\n",
       "      <td>48.0</td>\n",
       "      <td>aqua</td>\n",
       "      <td>Waan</td>\n",
       "      <td>Merauke</td>\n",
       "      <td>Papua</td>\n",
       "    </tr>\n",
       "  </tbody>\n",
       "</table>\n",
       "</div>"
      ],
      "text/plain": [
       "  Lintang (deg)  Bujur (deg)  Tanggal (dd/mm/yyy)  Waktu Akuisisi (UTC)  \\\n",
       "0      -8.47317      140.662           2014-08-04              04:28:00   \n",
       "1      -8.29524      140.952           2014-08-04              04:28:00   \n",
       "2      -8.14864      140.778           2014-08-04              04:28:00   \n",
       "3      -8.32554      138.186           2014-08-04              04:28:00   \n",
       "4      -8.32687      138.177           2014-08-04              04:28:00   \n",
       "\n",
       "    Tingkat Kepercayaan (%)  Satelit  Kecamatan  Kabupaten  Provinsi  \n",
       "0                      25.0     aqua      Sota    Merauke     Papua   \n",
       "1                      58.0     aqua      Sota    Merauke     Papua   \n",
       "2                      35.0     aqua   Jagebob    Merauke     Papua   \n",
       "3                      58.0     aqua      Waan    Merauke     Papua   \n",
       "4                      48.0     aqua      Waan    Merauke     Papua   "
      ]
     },
     "execution_count": 5,
     "metadata": {},
     "output_type": "execute_result"
    }
   ],
   "source": [
    "combined_csv.head()"
   ]
  },
  {
   "cell_type": "code",
   "execution_count": 6,
   "metadata": {},
   "outputs": [
    {
     "data": {
      "text/plain": [
       "(188148, 9)"
      ]
     },
     "execution_count": 6,
     "metadata": {},
     "output_type": "execute_result"
    }
   ],
   "source": [
    "combined_csv.shape"
   ]
  },
  {
   "cell_type": "code",
   "execution_count": 7,
   "metadata": {},
   "outputs": [
    {
     "data": {
      "text/plain": [
       "Index(['Lintang (deg)', 'Bujur (deg)', 'Tanggal (dd/mm/yyy)',\n",
       "       'Waktu Akuisisi (UTC)', 'Tingkat Kepercayaan (%)', 'Satelit',\n",
       "       'Kecamatan', 'Kabupaten', 'Provinsi'],\n",
       "      dtype='object')"
      ]
     },
     "execution_count": 7,
     "metadata": {},
     "output_type": "execute_result"
    }
   ],
   "source": [
    "combined_csv.columns = combined_csv.columns.str.strip()\n",
    "combined_csv.columns"
   ]
  },
  {
   "cell_type": "code",
   "execution_count": 8,
   "metadata": {},
   "outputs": [
    {
     "data": {
      "text/html": [
       "<div>\n",
       "<style scoped>\n",
       "    .dataframe tbody tr th:only-of-type {\n",
       "        vertical-align: middle;\n",
       "    }\n",
       "\n",
       "    .dataframe tbody tr th {\n",
       "        vertical-align: top;\n",
       "    }\n",
       "\n",
       "    .dataframe thead th {\n",
       "        text-align: right;\n",
       "    }\n",
       "</style>\n",
       "<table border=\"1\" class=\"dataframe\">\n",
       "  <thead>\n",
       "    <tr style=\"text-align: right;\">\n",
       "      <th></th>\n",
       "      <th>Lintang (deg)</th>\n",
       "      <th>Bujur (deg)</th>\n",
       "      <th>Tanggal (dd/mm/yyy)</th>\n",
       "      <th>Waktu Akuisisi (UTC)</th>\n",
       "      <th>Tingkat Kepercayaan (%)</th>\n",
       "      <th>Satelit</th>\n",
       "      <th>Kecamatan</th>\n",
       "      <th>Kabupaten</th>\n",
       "      <th>Provinsi</th>\n",
       "    </tr>\n",
       "  </thead>\n",
       "  <tbody>\n",
       "    <tr>\n",
       "      <th>0</th>\n",
       "      <td>-8.47317</td>\n",
       "      <td>140.662</td>\n",
       "      <td>2014-08-04</td>\n",
       "      <td>04:28:00</td>\n",
       "      <td>25.0</td>\n",
       "      <td>aqua</td>\n",
       "      <td>Sota</td>\n",
       "      <td>Merauke</td>\n",
       "      <td>Papua</td>\n",
       "    </tr>\n",
       "    <tr>\n",
       "      <th>1</th>\n",
       "      <td>-8.29524</td>\n",
       "      <td>140.952</td>\n",
       "      <td>2014-08-04</td>\n",
       "      <td>04:28:00</td>\n",
       "      <td>58.0</td>\n",
       "      <td>aqua</td>\n",
       "      <td>Sota</td>\n",
       "      <td>Merauke</td>\n",
       "      <td>Papua</td>\n",
       "    </tr>\n",
       "    <tr>\n",
       "      <th>2</th>\n",
       "      <td>-8.14864</td>\n",
       "      <td>140.778</td>\n",
       "      <td>2014-08-04</td>\n",
       "      <td>04:28:00</td>\n",
       "      <td>35.0</td>\n",
       "      <td>aqua</td>\n",
       "      <td>Jagebob</td>\n",
       "      <td>Merauke</td>\n",
       "      <td>Papua</td>\n",
       "    </tr>\n",
       "    <tr>\n",
       "      <th>3</th>\n",
       "      <td>-8.32554</td>\n",
       "      <td>138.186</td>\n",
       "      <td>2014-08-04</td>\n",
       "      <td>04:28:00</td>\n",
       "      <td>58.0</td>\n",
       "      <td>aqua</td>\n",
       "      <td>Waan</td>\n",
       "      <td>Merauke</td>\n",
       "      <td>Papua</td>\n",
       "    </tr>\n",
       "    <tr>\n",
       "      <th>4</th>\n",
       "      <td>-8.32687</td>\n",
       "      <td>138.177</td>\n",
       "      <td>2014-08-04</td>\n",
       "      <td>04:28:00</td>\n",
       "      <td>48.0</td>\n",
       "      <td>aqua</td>\n",
       "      <td>Waan</td>\n",
       "      <td>Merauke</td>\n",
       "      <td>Papua</td>\n",
       "    </tr>\n",
       "  </tbody>\n",
       "</table>\n",
       "</div>"
      ],
      "text/plain": [
       "  Lintang (deg) Bujur (deg) Tanggal (dd/mm/yyy) Waktu Akuisisi (UTC)  \\\n",
       "0      -8.47317     140.662          2014-08-04             04:28:00   \n",
       "1      -8.29524     140.952          2014-08-04             04:28:00   \n",
       "2      -8.14864     140.778          2014-08-04             04:28:00   \n",
       "3      -8.32554     138.186          2014-08-04             04:28:00   \n",
       "4      -8.32687     138.177          2014-08-04             04:28:00   \n",
       "\n",
       "   Tingkat Kepercayaan (%) Satelit Kecamatan Kabupaten Provinsi  \n",
       "0                     25.0    aqua      Sota   Merauke    Papua  \n",
       "1                     58.0    aqua      Sota   Merauke    Papua  \n",
       "2                     35.0    aqua   Jagebob   Merauke    Papua  \n",
       "3                     58.0    aqua      Waan   Merauke    Papua  \n",
       "4                     48.0    aqua      Waan   Merauke    Papua  "
      ]
     },
     "execution_count": 8,
     "metadata": {},
     "output_type": "execute_result"
    }
   ],
   "source": [
    "listColumnstoClean = ['Satelit','Kecamatan','Kabupaten','Provinsi']\n",
    "for column in listColumnstoClean:\n",
    "    combined_csv[column] = combined_csv[column].str.strip()\n",
    "combined_csv.head()"
   ]
  },
  {
   "cell_type": "code",
   "execution_count": 9,
   "metadata": {},
   "outputs": [
    {
     "data": {
      "text/plain": [
       "(53825, 9)"
      ]
     },
     "execution_count": 9,
     "metadata": {},
     "output_type": "execute_result"
    }
   ],
   "source": [
    "isRiau = combined_csv['Provinsi'] == 'Riau'\n",
    "dataRiau = combined_csv[isRiau]\n",
    "dataRiau.shape"
   ]
  },
  {
   "cell_type": "code",
   "execution_count": 11,
   "metadata": {},
   "outputs": [
    {
     "data": {
      "text/html": [
       "<div>\n",
       "<style scoped>\n",
       "    .dataframe tbody tr th:only-of-type {\n",
       "        vertical-align: middle;\n",
       "    }\n",
       "\n",
       "    .dataframe tbody tr th {\n",
       "        vertical-align: top;\n",
       "    }\n",
       "\n",
       "    .dataframe thead th {\n",
       "        text-align: right;\n",
       "    }\n",
       "</style>\n",
       "<table border=\"1\" class=\"dataframe\">\n",
       "  <thead>\n",
       "    <tr style=\"text-align: right;\">\n",
       "      <th></th>\n",
       "      <th>Lintang (deg)</th>\n",
       "      <th>Bujur (deg)</th>\n",
       "      <th>Tanggal (dd/mm/yyy)</th>\n",
       "      <th>Waktu Akuisisi (UTC)</th>\n",
       "      <th>Tingkat Kepercayaan (%)</th>\n",
       "      <th>Satelit</th>\n",
       "      <th>Kecamatan</th>\n",
       "      <th>Kabupaten</th>\n",
       "      <th>Provinsi</th>\n",
       "    </tr>\n",
       "  </thead>\n",
       "  <tbody>\n",
       "    <tr>\n",
       "      <th>117</th>\n",
       "      <td>-0.139824</td>\n",
       "      <td>102.882</td>\n",
       "      <td>2014-08-04</td>\n",
       "      <td>06:04:00</td>\n",
       "      <td>42.0</td>\n",
       "      <td>aqua</td>\n",
       "      <td>Gaunganakserka</td>\n",
       "      <td>Indragiri Hilir</td>\n",
       "      <td>Riau</td>\n",
       "    </tr>\n",
       "    <tr>\n",
       "      <th>118</th>\n",
       "      <td>1.98311</td>\n",
       "      <td>117.391</td>\n",
       "      <td>2014-08-04</td>\n",
       "      <td>06:04:00</td>\n",
       "      <td>59.0</td>\n",
       "      <td>aqua</td>\n",
       "      <td>Gaunganakserka</td>\n",
       "      <td>Indragiri Hilir</td>\n",
       "      <td>Riau</td>\n",
       "    </tr>\n",
       "    <tr>\n",
       "      <th>119</th>\n",
       "      <td>1.97997</td>\n",
       "      <td>117.369</td>\n",
       "      <td>2014-08-04</td>\n",
       "      <td>06:04:00</td>\n",
       "      <td>66.0</td>\n",
       "      <td>aqua</td>\n",
       "      <td>Gaunganakserka</td>\n",
       "      <td>Indragiri Hilir</td>\n",
       "      <td>Riau</td>\n",
       "    </tr>\n",
       "    <tr>\n",
       "      <th>120</th>\n",
       "      <td>-0.007676</td>\n",
       "      <td>102.744</td>\n",
       "      <td>2014-08-04</td>\n",
       "      <td>06:04:00</td>\n",
       "      <td>25.0</td>\n",
       "      <td>aqua</td>\n",
       "      <td>Gaunganakserka</td>\n",
       "      <td>Indragiri Hilir</td>\n",
       "      <td>Riau</td>\n",
       "    </tr>\n",
       "    <tr>\n",
       "      <th>121</th>\n",
       "      <td>0.12105</td>\n",
       "      <td>102.806</td>\n",
       "      <td>2014-08-04</td>\n",
       "      <td>06:04:00</td>\n",
       "      <td>16.0</td>\n",
       "      <td>aqua</td>\n",
       "      <td>Gaunganakserka</td>\n",
       "      <td>Indragiri Hilir</td>\n",
       "      <td>Riau</td>\n",
       "    </tr>\n",
       "  </tbody>\n",
       "</table>\n",
       "</div>"
      ],
      "text/plain": [
       "    Lintang (deg) Bujur (deg) Tanggal (dd/mm/yyy) Waktu Akuisisi (UTC)  \\\n",
       "117     -0.139824     102.882          2014-08-04             06:04:00   \n",
       "118       1.98311     117.391          2014-08-04             06:04:00   \n",
       "119       1.97997     117.369          2014-08-04             06:04:00   \n",
       "120     -0.007676     102.744          2014-08-04             06:04:00   \n",
       "121       0.12105     102.806          2014-08-04             06:04:00   \n",
       "\n",
       "     Tingkat Kepercayaan (%) Satelit       Kecamatan        Kabupaten Provinsi  \n",
       "117                     42.0    aqua  Gaunganakserka  Indragiri Hilir     Riau  \n",
       "118                     59.0    aqua  Gaunganakserka  Indragiri Hilir     Riau  \n",
       "119                     66.0    aqua  Gaunganakserka  Indragiri Hilir     Riau  \n",
       "120                     25.0    aqua  Gaunganakserka  Indragiri Hilir     Riau  \n",
       "121                     16.0    aqua  Gaunganakserka  Indragiri Hilir     Riau  "
      ]
     },
     "execution_count": 11,
     "metadata": {},
     "output_type": "execute_result"
    }
   ],
   "source": [
    "dataRiau.head()"
   ]
  },
  {
   "cell_type": "code",
   "execution_count": 12,
   "metadata": {},
   "outputs": [
    {
     "ename": "AttributeError",
     "evalue": "module 'pandas' has no attribute 'to_csv'",
     "output_type": "error",
     "traceback": [
      "\u001b[1;31m---------------------------------------------------------------------------\u001b[0m",
      "\u001b[1;31mAttributeError\u001b[0m                            Traceback (most recent call last)",
      "\u001b[1;32m<ipython-input-12-b132de725ef2>\u001b[0m in \u001b[0;36m<module>\u001b[1;34m\u001b[0m\n\u001b[1;32m----> 1\u001b[1;33m \u001b[0mpd\u001b[0m\u001b[1;33m.\u001b[0m\u001b[0mto_csv\u001b[0m\u001b[1;33m(\u001b[0m\u001b[0mdataRiau\u001b[0m\u001b[1;33m,\u001b[0m\u001b[1;34m\"data_riau_2014-2019.csv\"\u001b[0m\u001b[1;33m)\u001b[0m\u001b[1;33m\u001b[0m\u001b[1;33m\u001b[0m\u001b[0m\n\u001b[0m",
      "\u001b[1;31mAttributeError\u001b[0m: module 'pandas' has no attribute 'to_csv'"
     ]
    }
   ],
   "source": [
    "dataRiau.to_csv(\"data_riau_2014-2019.csv\")"
   ]
  }
 ],
 "metadata": {
  "kernelspec": {
   "display_name": "Python 3",
   "language": "python",
   "name": "python3"
  },
  "language_info": {
   "codemirror_mode": {
    "name": "ipython",
    "version": 3
   },
   "file_extension": ".py",
   "mimetype": "text/x-python",
   "name": "python",
   "nbconvert_exporter": "python",
   "pygments_lexer": "ipython3",
   "version": "3.7.2"
  }
 },
 "nbformat": 4,
 "nbformat_minor": 2
}
